{
 "cells": [
  {
   "cell_type": "code",
   "execution_count": null,
   "id": "c7e5ba62-8e72-4cbe-8d61-5c93b6d18720",
   "metadata": {},
   "outputs": [],
   "source": [
    "# import the necessary packages\n",
    "import os\n",
    "import pandas as pd\n",
    "import numpy as np \n",
    "import glob\n",
    "import matplotlib.pyplot as plt \n",
    "import geopandas as gpd\n",
    "from shapely.geometry import LineString\n"
   ]
  },
  {
   "cell_type": "code",
   "execution_count": null,
   "id": "5b4f0517-ac76-4bba-8fd3-5ab480c8a781",
   "metadata": {},
   "outputs": [],
   "source": [
    "# Specify the path to the folder which has the survey data\n",
    "path = r\"path to your survey data\"\n",
    "\n",
    "# Normally there are three files: QP : Cross section (Querprofile) , LS: river banks (Langstructure) and EP: Single points (Einzelpunket)\n",
    "LS_gdf = gpd.read_file(os.path.join(path, 'LS.shp'))\n",
    "QP_gdf = gpd.read_file(os.path.join(path, 'QP.shp'))\n",
    "EP_gdf = gpd.read_file(os.path.join(path, 'EP.shp'))\n"
   ]
  },
  {
   "cell_type": "code",
   "execution_count": null,
   "id": "e01fda1b-5866-425e-910e-f5b7a0473243",
   "metadata": {},
   "outputs": [],
   "source": [
    "# Specify the path to your river channel shapefiel (Gewässernetz.shp)\n",
    "Gewaesser_netz_path=r'Path to your river channel layer'\n",
    "\n",
    "# Load the river channel shapefile into a GeoDataFrame\n",
    "Gewaesser_netz_gdf=gpd.read_file(Gewaesser_netz_path)\n",
    "\n",
    "# Plot the river channel GeoDataFrame\n",
    "Gewaesser_netz_gdf.plot();"
   ]
  },
  {
   "cell_type": "code",
   "execution_count": null,
   "id": "5dd0306d-eeef-4e24-92e2-a27440a7cf3d",
   "metadata": {},
   "outputs": [],
   "source": [
    "# Check if the layers have the same projection and print the EPSG codes\n",
    "\n",
    "# Print the EPSG code of the projection for the river channel GeoDataFrame\n",
    "print('Gewässernetz Proj:', Gewaesser_netz_gdf.crs.to_epsg())\n",
    "\n",
    "# Print the EPSG code of the projection for the cross section GeoDataFrame\n",
    "print('QP Proj:', QP_gdf.crs.to_epsg())\n",
    "\n",
    "# Print the EPSG code of the projection for the river banks GeoDataFrame\n",
    "print('LS Proj:', LS_gdf.crs.to_epsg())\n",
    "\n",
    "# Print the EPSG code of the projection for the single points GeoDataFrame\n",
    "print('EP Proj:', EP_gdf.crs.to_epsg())\n"
   ]
  },
  {
   "cell_type": "code",
   "execution_count": null,
   "id": "1e23fd44-925e-4a34-b39a-bedfa6efa4de",
   "metadata": {},
   "outputs": [],
   "source": [
    "# Display the first few rows of the river channel GeoDataFrame\n",
    "Gewaesser_netz_gdf.head()"
   ]
  },
  {
   "cell_type": "code",
   "execution_count": null,
   "id": "e5d13ae9-d585-4189-b392-742048d89068",
   "metadata": {},
   "outputs": [],
   "source": [
    "# Display the data types of columns in the river channel GeoDataFrame\n",
    "Gewaesser_netz_gdf.dtypes"
   ]
  },
  {
   "cell_type": "code",
   "execution_count": null,
   "id": "987ce4e4-4d98-4bde-b6ed-68733471ffb0",
   "metadata": {},
   "outputs": [],
   "source": [
    "# Display the first few rows of the cross section GeoDataFrame\n",
    "QP_gdf.head()"
   ]
  },
  {
   "cell_type": "code",
   "execution_count": null,
   "id": "7884e041-e43e-4c83-a824-25b3c91ed68b",
   "metadata": {},
   "outputs": [],
   "source": [
    "# Display the data types of columns in the cross section GeoDataFrame\n",
    "QP_gdf.dtypes"
   ]
  },
  {
   "cell_type": "code",
   "execution_count": null,
   "id": "8e995821-f442-4438-ad5e-440bf12b6b94",
   "metadata": {},
   "outputs": [],
   "source": [
    "# Convert the 'GKZ' (River ID: Gewässerkennzahl) column in the cross section GeoDataFrame to float type\n",
    "QP_gdf['GKZ'] = QP_gdf['GKZ'].astype(float)"
   ]
  },
  {
   "cell_type": "code",
   "execution_count": null,
   "id": "bdb12767-52be-498a-82fd-60cf404745ce",
   "metadata": {},
   "outputs": [],
   "source": [
    "# Initialize GeoDataFrames to save the results\n",
    "# Create an empty GeoDataFrame with columns and CRS matching QP_gdf\n",
    "no_intersection = gpd.GeoDataFrame(columns=QP_gdf.columns, crs=QP_gdf.crs)\n",
    "\n",
    "# Create another empty GeoDataFrame with columns and CRS matching QP_gdf\n",
    "different_values = gpd.GeoDataFrame(columns=QP_gdf.columns, crs=QP_gdf.crs)\n",
    "\n",
    "# Iterate over each row (cross section) in QP_gdf to check for intersections and attribute matches\n",
    "for idx, QP in QP_gdf.iterrows():\n",
    "    # Find all river channels (GEWAESSER) that intersect with the current cross section (QP['geometry'])\n",
    "    matching_QP = Gewaesser_netz_gdf[Gewaesser_netz_gdf.intersects(QP['geometry'])]\n",
    "    \n",
    "    # If no intersections are found, add the current cross section (QP) to no_intersection GeoDataFrame\n",
    "    if matching_QP.empty:\n",
    "        no_intersection = pd.concat([no_intersection, QP.to_frame().T], ignore_index=True)\n",
    "    else:\n",
    "        # Check if there are matching 'GEWAESSER' attributes within the intersected geometries\n",
    "        if not any(matching_QP['GEWAESSER'] == QP['GKZ']):\n",
    "            different_values = pd.concat([different_values, QP.to_frame().T], ignore_index=True)\n"
   ]
  },
  {
   "cell_type": "code",
   "execution_count": null,
   "id": "c9e4ce40-3ad7-43fb-8fe1-0b237d00c2ff",
   "metadata": {},
   "outputs": [],
   "source": [
    "# display the result\n",
    "no_intersection"
   ]
  },
  {
   "cell_type": "code",
   "execution_count": null,
   "id": "7f1e550c-bae1-4dbb-81f5-aa7414decd06",
   "metadata": {},
   "outputs": [],
   "source": [
    "# save the results as a shapefile\n",
    "no_intersection,to_file('No_intersection.shp')"
   ]
  },
  {
   "cell_type": "code",
   "execution_count": null,
   "id": "7a4ce1f5-24c9-4860-b1b4-2ce05536eec7",
   "metadata": {},
   "outputs": [],
   "source": [
    "# display the result\n",
    "different_values"
   ]
  },
  {
   "cell_type": "code",
   "execution_count": null,
   "id": "e6b16fa3-6471-451f-981a-f87d3c9f3c0d",
   "metadata": {},
   "outputs": [],
   "source": [
    "# save the results as a shapefile\n",
    "different_values.to_file('Crosssection_with_different_River_ID.shp')"
   ]
  },
  {
   "cell_type": "code",
   "execution_count": null,
   "id": "a12efccb-cdbc-4b3e-80a0-3931f117c2e9",
   "metadata": {},
   "outputs": [],
   "source": []
  }
 ],
 "metadata": {
  "kernelspec": {
   "display_name": "Python 3 (ipykernel)",
   "language": "python",
   "name": "python3"
  },
  "language_info": {
   "codemirror_mode": {
    "name": "ipython",
    "version": 3
   },
   "file_extension": ".py",
   "mimetype": "text/x-python",
   "name": "python",
   "nbconvert_exporter": "python",
   "pygments_lexer": "ipython3",
   "version": "3.9.18"
  }
 },
 "nbformat": 4,
 "nbformat_minor": 5
}
