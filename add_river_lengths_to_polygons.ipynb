{
 "cells": [
  {
   "cell_type": "code",
   "execution_count": null,
   "id": "b614e44f-4b67-4e04-8b19-45b897346187",
   "metadata": {},
   "outputs": [],
   "source": [
    "import geopandas as gpd\n",
    "import pandas as pd\n",
    "import numpy as np\n",
    "import os \n",
    "import matplotlib.pyplot as plt"
   ]
  },
  {
   "cell_type": "markdown",
   "id": "8558866f-70c6-4415-a971-8ad88c3ea634",
   "metadata": {},
   "source": [
    "Here is an example where I wanted to calculate the length of the river within each municipality. The following script performs these tasks:\n",
    "\n",
    "- Reads the river as a line shapefile. Since my dataset is inconsistent and sometimes the river is divided into multiple lines, I used the dissolve function to merge them into a single line.\n",
    "- Reads the municipality shapefile.\n",
    "- Checks if both files have the same projection. If not, the script changes the line projection to match the polygon shapefile's projection.\n",
    "- Plots the two layers to ensure they overlay correctly.\n",
    "- Calculates the length of the river within each municipality and adds this information to the municipality shapefile.\n"
   ]
  },
  {
   "cell_type": "code",
   "execution_count": null,
   "id": "05fec929-2a5c-4d28-9f26-5f17f2626783",
   "metadata": {},
   "outputs": [],
   "source": [
    "def add_river_lengths_to_polygons(lines_shapefile, polygons_shapefile, municipality_column):\n",
    "    \"\"\"\n",
    "    This function reads the provided line and polygon shapefiles, dissolves the line shapefile into a single line,\n",
    "    checks and potentially reprojects the line shapefile to match the CRS of the polygons, performs an overlay operation\n",
    "    to determine where the river intersects with each municipality polygon, calculates the length of river within each\n",
    "    polygon, and adds this information as a new column ('River_length_in_polygon') to the polygon shapefile. It uses\n",
    "    the specified municipality column to merge the intersection results with the polygon layer. Additionally, it computes\n",
    "    the cumulative river length ('Cumulative_River_length') within each polygon.\n",
    "\n",
    "    Parameters:\n",
    "    - lines_shapefile (str): File path to the line shapefile containing the river.\n",
    "    - polygons_shapefile (str): File path to the polygon shapefile containing municipality boundaries.\n",
    "    - municipality_column (str): Name of the column in polygons_shapefile that identifies municipalities.\n",
    "\n",
    "    Returns:\n",
    "    - GeoDataFrame: GeoDataFrame containing polygons with added columns for river length within each municipality\n",
    "      and cumulative river length.\n",
    "    \"\"\"\n",
    "    # Read the line shapefile\n",
    "    lines = gpd.read_file(lines_shapefile)\n",
    "    \n",
    "    # Dissolve the merged GeoDataFrame into a single line\n",
    "    lines = lines.dissolve()\n",
    "    \n",
    "    # Read the polygon shapefile\n",
    "    polygons = gpd.read_file(polygons_shapefile)\n",
    "    \n",
    "    # Check if the CRS of the polygons and lines are the same\n",
    "    if polygons.crs == lines.crs:\n",
    "        print(\"The CRS of the polygons and lines are already the same.\")\n",
    "    else:\n",
    "        # Reproject the lines to match the CRS of the polygons\n",
    "        lines = lines.to_crs(polygons.crs)\n",
    "        print(\"Lines have been reprojected to match the CRS of the polygons.\")\n",
    "    \n",
    "    # Plotting for visual check\n",
    "    ax = polygons.boundary.plot()\n",
    "    lines.plot(ax=ax, color='red')\n",
    "    \n",
    "    # Perform overlay operation to get the intersection\n",
    "    intersection = gpd.overlay(lines, polygons, how='intersection')\n",
    "    \n",
    "    # Calculate the length of the intersected lines within each polygon\n",
    "    intersection['River_length_in_polygon'] = intersection.geometry.length\n",
    "    \n",
    "    # Merge the DataFrames based on the specified municipality column\n",
    "    polygons = polygons.merge(intersection[[municipality_column, 'River_length_in_polygon']], on=municipality_column, how='left')\n",
    "    \n",
    "    # Calculate the cumulative sum\n",
    "    polygons['Cumulative_River_length'] = polygons['River_length_in_polygon'].cumsum()\n",
    "    \n",
    "    return polygons\n",
    "    \n",
    "result = add_river_lengths_to_polygons(lines_shapefile, polygons_shapefile, municipality_column)\n",
    "\n",
    "# Example usage:\n",
    "lines_shapefile = r'path_to_your_lines_shapefile.shp'  # Update with your actual file path\n",
    "polygons_shapefile = r'path_to_your_polygons_shapefile.shp'  # Update with your actual file path\n",
    "municipality_column = 'gmde_sch'  # Update with a column from the municipality polygon layer it is going to be used to add the calcuated lengths to the polygon shapefile"
   ]
  },
  {
   "cell_type": "code",
   "execution_count": null,
   "id": "389ae974-f95a-4412-9537-6597de44e6db",
   "metadata": {
    "scrolled": true
   },
   "outputs": [],
   "source": [
    "result"
   ]
  },
  {
   "cell_type": "code",
   "execution_count": null,
   "id": "4f66b8bb-572a-45aa-ae5b-587fed704925",
   "metadata": {},
   "outputs": [],
   "source": []
  }
 ],
 "metadata": {
  "kernelspec": {
   "display_name": "Python 3 (ipykernel)",
   "language": "python",
   "name": "python3"
  },
  "language_info": {
   "codemirror_mode": {
    "name": "ipython",
    "version": 3
   },
   "file_extension": ".py",
   "mimetype": "text/x-python",
   "name": "python",
   "nbconvert_exporter": "python",
   "pygments_lexer": "ipython3",
   "version": "3.9.18"
  }
 },
 "nbformat": 4,
 "nbformat_minor": 5
}
